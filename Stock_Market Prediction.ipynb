{
 "cells": [
  {
   "cell_type": "code",
   "execution_count": 9,
   "id": "48dd1f84",
   "metadata": {},
   "outputs": [],
   "source": [
    "import pandas as pd\n",
    "import numpy as np\n",
    "import matplotlib.pyplot as plt \n",
    "from matplotlib import figure\n",
    "from tensorflow import keras\n",
    "import math as mt\n",
    "from keras.models import Sequential\n",
    "from keras.layers import Dense\n",
    "from keras.layers import LSTM\n",
    "from sklearn.preprocessing import MinMaxScaler\n",
    "from sklearn.metrics import mean_squared_error"
   ]
  },
  {
   "cell_type": "markdown",
   "id": "1ebf42ea",
   "metadata": {},
   "source": [
    "Read csv"
   ]
  },
  {
   "cell_type": "code",
   "execution_count": 10,
   "id": "665807fb",
   "metadata": {},
   "outputs": [],
   "source": [
    "data= pd.read_csv(\"C:\\\\Users\\\\asus\\\\Downloads\\\\archive (5)\\\\AMZN.csv\")"
   ]
  },
  {
   "cell_type": "markdown",
   "id": "9bc9dde3",
   "metadata": {},
   "source": [
    "Data Exploration and cleaning "
   ]
  },
  {
   "cell_type": "code",
   "execution_count": 11,
   "id": "6bfdc933",
   "metadata": {},
   "outputs": [
    {
     "data": {
      "text/html": [
       "<div>\n",
       "<style scoped>\n",
       "    .dataframe tbody tr th:only-of-type {\n",
       "        vertical-align: middle;\n",
       "    }\n",
       "\n",
       "    .dataframe tbody tr th {\n",
       "        vertical-align: top;\n",
       "    }\n",
       "\n",
       "    .dataframe thead th {\n",
       "        text-align: right;\n",
       "    }\n",
       "</style>\n",
       "<table border=\"1\" class=\"dataframe\">\n",
       "  <thead>\n",
       "    <tr style=\"text-align: right;\">\n",
       "      <th></th>\n",
       "      <th>Date</th>\n",
       "      <th>Open</th>\n",
       "      <th>High</th>\n",
       "      <th>Low</th>\n",
       "      <th>Close</th>\n",
       "      <th>Adj Close</th>\n",
       "      <th>Volume</th>\n",
       "    </tr>\n",
       "  </thead>\n",
       "  <tbody>\n",
       "    <tr>\n",
       "      <th>0</th>\n",
       "      <td>1997-05-15</td>\n",
       "      <td>2.437500</td>\n",
       "      <td>2.500000</td>\n",
       "      <td>1.927083</td>\n",
       "      <td>1.958333</td>\n",
       "      <td>1.958333</td>\n",
       "      <td>72156000</td>\n",
       "    </tr>\n",
       "    <tr>\n",
       "      <th>1</th>\n",
       "      <td>1997-05-16</td>\n",
       "      <td>1.968750</td>\n",
       "      <td>1.979167</td>\n",
       "      <td>1.708333</td>\n",
       "      <td>1.729167</td>\n",
       "      <td>1.729167</td>\n",
       "      <td>14700000</td>\n",
       "    </tr>\n",
       "    <tr>\n",
       "      <th>2</th>\n",
       "      <td>1997-05-19</td>\n",
       "      <td>1.760417</td>\n",
       "      <td>1.770833</td>\n",
       "      <td>1.625000</td>\n",
       "      <td>1.708333</td>\n",
       "      <td>1.708333</td>\n",
       "      <td>6106800</td>\n",
       "    </tr>\n",
       "    <tr>\n",
       "      <th>3</th>\n",
       "      <td>1997-05-20</td>\n",
       "      <td>1.729167</td>\n",
       "      <td>1.750000</td>\n",
       "      <td>1.635417</td>\n",
       "      <td>1.635417</td>\n",
       "      <td>1.635417</td>\n",
       "      <td>5467200</td>\n",
       "    </tr>\n",
       "    <tr>\n",
       "      <th>4</th>\n",
       "      <td>1997-05-21</td>\n",
       "      <td>1.635417</td>\n",
       "      <td>1.645833</td>\n",
       "      <td>1.375000</td>\n",
       "      <td>1.427083</td>\n",
       "      <td>1.427083</td>\n",
       "      <td>18853200</td>\n",
       "    </tr>\n",
       "  </tbody>\n",
       "</table>\n",
       "</div>"
      ],
      "text/plain": [
       "         Date      Open      High       Low     Close  Adj Close    Volume\n",
       "0  1997-05-15  2.437500  2.500000  1.927083  1.958333   1.958333  72156000\n",
       "1  1997-05-16  1.968750  1.979167  1.708333  1.729167   1.729167  14700000\n",
       "2  1997-05-19  1.760417  1.770833  1.625000  1.708333   1.708333   6106800\n",
       "3  1997-05-20  1.729167  1.750000  1.635417  1.635417   1.635417   5467200\n",
       "4  1997-05-21  1.635417  1.645833  1.375000  1.427083   1.427083  18853200"
      ]
     },
     "execution_count": 11,
     "metadata": {},
     "output_type": "execute_result"
    }
   ],
   "source": [
    "data.head()"
   ]
  },
  {
   "cell_type": "code",
   "execution_count": 12,
   "id": "09990710",
   "metadata": {},
   "outputs": [
    {
     "name": "stdout",
     "output_type": "stream",
     "text": [
      "<class 'pandas.core.frame.DataFrame'>\n",
      "RangeIndex: 5665 entries, 0 to 5664\n",
      "Data columns (total 7 columns):\n",
      " #   Column     Non-Null Count  Dtype  \n",
      "---  ------     --------------  -----  \n",
      " 0   Date       5665 non-null   object \n",
      " 1   Open       5665 non-null   float64\n",
      " 2   High       5665 non-null   float64\n",
      " 3   Low        5665 non-null   float64\n",
      " 4   Close      5665 non-null   float64\n",
      " 5   Adj Close  5665 non-null   float64\n",
      " 6   Volume     5665 non-null   int64  \n",
      "dtypes: float64(5), int64(1), object(1)\n",
      "memory usage: 309.9+ KB\n"
     ]
    }
   ],
   "source": [
    "data.info()"
   ]
  },
  {
   "cell_type": "code",
   "execution_count": 13,
   "id": "80f3241f",
   "metadata": {},
   "outputs": [
    {
     "data": {
      "text/plain": [
       "Date         0\n",
       "Open         0\n",
       "High         0\n",
       "Low          0\n",
       "Close        0\n",
       "Adj Close    0\n",
       "Volume       0\n",
       "dtype: int64"
      ]
     },
     "execution_count": 13,
     "metadata": {},
     "output_type": "execute_result"
    }
   ],
   "source": [
    "data.isnull().sum()"
   ]
  },
  {
   "cell_type": "code",
   "execution_count": 14,
   "id": "6f6af1c2",
   "metadata": {},
   "outputs": [
    {
     "data": {
      "text/html": [
       "<div>\n",
       "<style scoped>\n",
       "    .dataframe tbody tr th:only-of-type {\n",
       "        vertical-align: middle;\n",
       "    }\n",
       "\n",
       "    .dataframe tbody tr th {\n",
       "        vertical-align: top;\n",
       "    }\n",
       "\n",
       "    .dataframe thead th {\n",
       "        text-align: right;\n",
       "    }\n",
       "</style>\n",
       "<table border=\"1\" class=\"dataframe\">\n",
       "  <thead>\n",
       "    <tr style=\"text-align: right;\">\n",
       "      <th></th>\n",
       "      <th>Open</th>\n",
       "      <th>High</th>\n",
       "      <th>Low</th>\n",
       "      <th>Close</th>\n",
       "      <th>Adj Close</th>\n",
       "      <th>Volume</th>\n",
       "    </tr>\n",
       "  </thead>\n",
       "  <tbody>\n",
       "    <tr>\n",
       "      <th>count</th>\n",
       "      <td>5665.000000</td>\n",
       "      <td>5665.000000</td>\n",
       "      <td>5665.000000</td>\n",
       "      <td>5665.000000</td>\n",
       "      <td>5665.000000</td>\n",
       "      <td>5.665000e+03</td>\n",
       "    </tr>\n",
       "    <tr>\n",
       "      <th>mean</th>\n",
       "      <td>315.126044</td>\n",
       "      <td>318.499003</td>\n",
       "      <td>311.288491</td>\n",
       "      <td>315.053306</td>\n",
       "      <td>315.053306</td>\n",
       "      <td>7.602816e+06</td>\n",
       "    </tr>\n",
       "    <tr>\n",
       "      <th>std</th>\n",
       "      <td>488.289599</td>\n",
       "      <td>492.442904</td>\n",
       "      <td>483.041434</td>\n",
       "      <td>487.953106</td>\n",
       "      <td>487.953106</td>\n",
       "      <td>7.369511e+06</td>\n",
       "    </tr>\n",
       "    <tr>\n",
       "      <th>min</th>\n",
       "      <td>1.406250</td>\n",
       "      <td>1.447917</td>\n",
       "      <td>1.312500</td>\n",
       "      <td>1.395833</td>\n",
       "      <td>1.395833</td>\n",
       "      <td>4.872000e+05</td>\n",
       "    </tr>\n",
       "    <tr>\n",
       "      <th>25%</th>\n",
       "      <td>37.150002</td>\n",
       "      <td>37.980000</td>\n",
       "      <td>36.500000</td>\n",
       "      <td>37.150002</td>\n",
       "      <td>37.150002</td>\n",
       "      <td>3.712600e+06</td>\n",
       "    </tr>\n",
       "    <tr>\n",
       "      <th>50%</th>\n",
       "      <td>80.110001</td>\n",
       "      <td>81.949997</td>\n",
       "      <td>78.010002</td>\n",
       "      <td>79.937500</td>\n",
       "      <td>79.937500</td>\n",
       "      <td>5.721800e+06</td>\n",
       "    </tr>\n",
       "    <tr>\n",
       "      <th>75%</th>\n",
       "      <td>320.989990</td>\n",
       "      <td>324.130005</td>\n",
       "      <td>316.750000</td>\n",
       "      <td>322.200012</td>\n",
       "      <td>322.200012</td>\n",
       "      <td>8.641200e+06</td>\n",
       "    </tr>\n",
       "    <tr>\n",
       "      <th>max</th>\n",
       "      <td>2038.109985</td>\n",
       "      <td>2050.500000</td>\n",
       "      <td>2013.000000</td>\n",
       "      <td>2039.510010</td>\n",
       "      <td>2039.510010</td>\n",
       "      <td>1.043292e+08</td>\n",
       "    </tr>\n",
       "  </tbody>\n",
       "</table>\n",
       "</div>"
      ],
      "text/plain": [
       "              Open         High          Low        Close    Adj Close  \\\n",
       "count  5665.000000  5665.000000  5665.000000  5665.000000  5665.000000   \n",
       "mean    315.126044   318.499003   311.288491   315.053306   315.053306   \n",
       "std     488.289599   492.442904   483.041434   487.953106   487.953106   \n",
       "min       1.406250     1.447917     1.312500     1.395833     1.395833   \n",
       "25%      37.150002    37.980000    36.500000    37.150002    37.150002   \n",
       "50%      80.110001    81.949997    78.010002    79.937500    79.937500   \n",
       "75%     320.989990   324.130005   316.750000   322.200012   322.200012   \n",
       "max    2038.109985  2050.500000  2013.000000  2039.510010  2039.510010   \n",
       "\n",
       "             Volume  \n",
       "count  5.665000e+03  \n",
       "mean   7.602816e+06  \n",
       "std    7.369511e+06  \n",
       "min    4.872000e+05  \n",
       "25%    3.712600e+06  \n",
       "50%    5.721800e+06  \n",
       "75%    8.641200e+06  \n",
       "max    1.043292e+08  "
      ]
     },
     "execution_count": 14,
     "metadata": {},
     "output_type": "execute_result"
    }
   ],
   "source": [
    "data.describe()"
   ]
  },
  {
   "cell_type": "code",
   "execution_count": 15,
   "id": "2e0b581b",
   "metadata": {},
   "outputs": [
    {
     "data": {
      "text/plain": [
       "array([[<Axes: title={'center': 'Open'}>,\n",
       "        <Axes: title={'center': 'High'}>],\n",
       "       [<Axes: title={'center': 'Low'}>,\n",
       "        <Axes: title={'center': 'Close'}>],\n",
       "       [<Axes: title={'center': 'Adj Close'}>,\n",
       "        <Axes: title={'center': 'Volume'}>]], dtype=object)"
      ]
     },
     "execution_count": 15,
     "metadata": {},
     "output_type": "execute_result"
    },
    {
     "data": {
      "image/png": "[encoded data removed]",
      "text/plain": [
       "<Figure size 640x480 with 6 Axes>"
      ]
     },
     "metadata": {},
     "output_type": "display_data"
    }
   ],
   "source": [
    "data.hist()"
   ]
  },
  {
   "cell_type": "code",
   "execution_count": 17,
   "id": "e48d4d97",
   "metadata": {},
   "outputs": [
    {
     "data": {
      "text/html": [
       "<div>\n",
       "<style scoped>\n",
       "    .dataframe tbody tr th:only-of-type {\n",
       "        vertical-align: middle;\n",
       "    }\n",
       "\n",
       "    .dataframe tbody tr th {\n",
       "        vertical-align: top;\n",
       "    }\n",
       "\n",
       "    .dataframe thead th {\n",
       "        text-align: right;\n",
       "    }\n",
       "</style>\n",
       "<table border=\"1\" class=\"dataframe\">\n",
       "  <thead>\n",
       "    <tr style=\"text-align: right;\">\n",
       "      <th></th>\n",
       "      <th>Date</th>\n",
       "      <th>Open</th>\n",
       "      <th>High</th>\n",
       "      <th>Low</th>\n",
       "      <th>Close</th>\n",
       "      <th>Adj Close</th>\n",
       "      <th>Volume</th>\n",
       "    </tr>\n",
       "  </thead>\n",
       "  <tbody>\n",
       "    <tr>\n",
       "      <th>0</th>\n",
       "      <td>1997-05-15</td>\n",
       "      <td>2.437500</td>\n",
       "      <td>2.500000</td>\n",
       "      <td>1.927083</td>\n",
       "      <td>1.958333</td>\n",
       "      <td>1.958333</td>\n",
       "      <td>72156000</td>\n",
       "    </tr>\n",
       "    <tr>\n",
       "      <th>1</th>\n",
       "      <td>1997-05-16</td>\n",
       "      <td>1.968750</td>\n",
       "      <td>1.979167</td>\n",
       "      <td>1.708333</td>\n",
       "      <td>1.729167</td>\n",
       "      <td>1.729167</td>\n",
       "      <td>14700000</td>\n",
       "    </tr>\n",
       "    <tr>\n",
       "      <th>2</th>\n",
       "      <td>1997-05-19</td>\n",
       "      <td>1.760417</td>\n",
       "      <td>1.770833</td>\n",
       "      <td>1.625000</td>\n",
       "      <td>1.708333</td>\n",
       "      <td>1.708333</td>\n",
       "      <td>6106800</td>\n",
       "    </tr>\n",
       "    <tr>\n",
       "      <th>3</th>\n",
       "      <td>1997-05-20</td>\n",
       "      <td>1.729167</td>\n",
       "      <td>1.750000</td>\n",
       "      <td>1.635417</td>\n",
       "      <td>1.635417</td>\n",
       "      <td>1.635417</td>\n",
       "      <td>5467200</td>\n",
       "    </tr>\n",
       "    <tr>\n",
       "      <th>4</th>\n",
       "      <td>1997-05-21</td>\n",
       "      <td>1.635417</td>\n",
       "      <td>1.645833</td>\n",
       "      <td>1.375000</td>\n",
       "      <td>1.427083</td>\n",
       "      <td>1.427083</td>\n",
       "      <td>18853200</td>\n",
       "    </tr>\n",
       "  </tbody>\n",
       "</table>\n",
       "</div>"
      ],
      "text/plain": [
       "         Date      Open      High       Low     Close  Adj Close    Volume\n",
       "0  1997-05-15  2.437500  2.500000  1.927083  1.958333   1.958333  72156000\n",
       "1  1997-05-16  1.968750  1.979167  1.708333  1.729167   1.729167  14700000\n",
       "2  1997-05-19  1.760417  1.770833  1.625000  1.708333   1.708333   6106800\n",
       "3  1997-05-20  1.729167  1.750000  1.635417  1.635417   1.635417   5467200\n",
       "4  1997-05-21  1.635417  1.645833  1.375000  1.427083   1.427083  18853200"
      ]
     },
     "execution_count": 17,
     "metadata": {},
     "output_type": "execute_result"
    }
   ],
   "source": [
    "srt=data.sort_values(by='Date')\n",
    "srt.head()"
   ]
  },
  {
   "cell_type": "code",
   "execution_count": 18,
   "id": "c452b238",
   "metadata": {},
   "outputs": [],
   "source": [
    "srt.reset_index(inplace=True)"
   ]
  },
  {
   "cell_type": "code",
   "execution_count": 24,
   "id": "3f891388",
   "metadata": {},
   "outputs": [
    {
     "data": {
      "text/html": [
       "<div>\n",
       "<style scoped>\n",
       "    .dataframe tbody tr th:only-of-type {\n",
       "        vertical-align: middle;\n",
       "    }\n",
       "\n",
       "    .dataframe tbody tr th {\n",
       "        vertical-align: top;\n",
       "    }\n",
       "\n",
       "    .dataframe thead th {\n",
       "        text-align: right;\n",
       "    }\n",
       "</style>\n",
       "<table border=\"1\" class=\"dataframe\">\n",
       "  <thead>\n",
       "    <tr style=\"text-align: right;\">\n",
       "      <th></th>\n",
       "      <th>index</th>\n",
       "      <th>Date</th>\n",
       "      <th>Open</th>\n",
       "      <th>High</th>\n",
       "      <th>Low</th>\n",
       "      <th>Close</th>\n",
       "      <th>Adj Close</th>\n",
       "      <th>Volume</th>\n",
       "    </tr>\n",
       "  </thead>\n",
       "  <tbody>\n",
       "    <tr>\n",
       "      <th>0</th>\n",
       "      <td>0</td>\n",
       "      <td>1997-05-15</td>\n",
       "      <td>2.437500</td>\n",
       "      <td>2.500000</td>\n",
       "      <td>1.927083</td>\n",
       "      <td>1.958333</td>\n",
       "      <td>1.958333</td>\n",
       "      <td>72156000</td>\n",
       "    </tr>\n",
       "    <tr>\n",
       "      <th>1</th>\n",
       "      <td>1</td>\n",
       "      <td>1997-05-16</td>\n",
       "      <td>1.968750</td>\n",
       "      <td>1.979167</td>\n",
       "      <td>1.708333</td>\n",
       "      <td>1.729167</td>\n",
       "      <td>1.729167</td>\n",
       "      <td>14700000</td>\n",
       "    </tr>\n",
       "    <tr>\n",
       "      <th>2</th>\n",
       "      <td>2</td>\n",
       "      <td>1997-05-19</td>\n",
       "      <td>1.760417</td>\n",
       "      <td>1.770833</td>\n",
       "      <td>1.625000</td>\n",
       "      <td>1.708333</td>\n",
       "      <td>1.708333</td>\n",
       "      <td>6106800</td>\n",
       "    </tr>\n",
       "    <tr>\n",
       "      <th>3</th>\n",
       "      <td>3</td>\n",
       "      <td>1997-05-20</td>\n",
       "      <td>1.729167</td>\n",
       "      <td>1.750000</td>\n",
       "      <td>1.635417</td>\n",
       "      <td>1.635417</td>\n",
       "      <td>1.635417</td>\n",
       "      <td>5467200</td>\n",
       "    </tr>\n",
       "    <tr>\n",
       "      <th>4</th>\n",
       "      <td>4</td>\n",
       "      <td>1997-05-21</td>\n",
       "      <td>1.635417</td>\n",
       "      <td>1.645833</td>\n",
       "      <td>1.375000</td>\n",
       "      <td>1.427083</td>\n",
       "      <td>1.427083</td>\n",
       "      <td>18853200</td>\n",
       "    </tr>\n",
       "  </tbody>\n",
       "</table>\n",
       "</div>"
      ],
      "text/plain": [
       "   index        Date      Open      High       Low     Close  Adj Close  \\\n",
       "0      0  1997-05-15  2.437500  2.500000  1.927083  1.958333   1.958333   \n",
       "1      1  1997-05-16  1.968750  1.979167  1.708333  1.729167   1.729167   \n",
       "2      2  1997-05-19  1.760417  1.770833  1.625000  1.708333   1.708333   \n",
       "3      3  1997-05-20  1.729167  1.750000  1.635417  1.635417   1.635417   \n",
       "4      4  1997-05-21  1.635417  1.645833  1.375000  1.427083   1.427083   \n",
       "\n",
       "     Volume  \n",
       "0  72156000  \n",
       "1  14700000  \n",
       "2   6106800  \n",
       "3   5467200  \n",
       "4  18853200  "
      ]
     },
     "execution_count": 24,
     "metadata": {},
     "output_type": "execute_result"
    }
   ],
   "source": [
    "srt.head()"
   ]
  },
  {
   "cell_type": "code",
   "execution_count": 23,
   "id": "de4a5cbc",
   "metadata": {},
   "outputs": [
    {
     "data": {
      "text/plain": [
       "[<matplotlib.lines.Line2D at 0x1fd0f1241d0>]"
      ]
     },
     "execution_count": 23,
     "metadata": {},
     "output_type": "execute_result"
    },
    {
     "data": {
      "image/png": "[encoded data removed]",
      "text/plain": [
       "<Figure size 1000x500 with 1 Axes>"
      ]
     },
     "metadata": {},
     "output_type": "display_data"
    }
   ],
   "source": [
    "plt.figure(figsize=(10,5))\n",
    "plt.plot(srt['Date'],srt['Close'])"
   ]
  },
  {
   "cell_type": "code",
   "execution_count": 25,
   "id": "a54086a7",
   "metadata": {},
   "outputs": [],
   "source": [
    "close_srt = srt['Close']\n",
    "scaler = MinMaxScaler(feature_range=(0,1))\n",
    "close_srt=scaler.fit_transform(np.array(close_srt).reshape(-1,1))"
   ]
  },
  {
   "cell_type": "code",
   "execution_count": 26,
   "id": "3c9a3e9a",
   "metadata": {},
   "outputs": [
    {
     "data": {
      "text/plain": [
       "array([[2.75990426e-04],\n",
       "       [1.63550209e-04],\n",
       "       [1.53328014e-04],\n",
       "       ...,\n",
       "       [8.59477929e-01],\n",
       "       [8.60208993e-01],\n",
       "       [8.52795283e-01]])"
      ]
     },
     "execution_count": 26,
     "metadata": {},
     "output_type": "execute_result"
    }
   ],
   "source": [
    "close_srt"
   ]
  },
  {
   "cell_type": "markdown",
   "id": "3101b24b",
   "metadata": {},
   "source": [
    "Training Model"
   ]
  },
  {
   "cell_type": "code",
   "execution_count": 27,
   "id": "be2c3f9b",
   "metadata": {},
   "outputs": [],
   "source": [
    "train_size = int(len(close_srt)*0.7)\n",
    "test_size = len(close_srt)-train_size\n",
    "train_data,test_data = close_srt[0:train_size,:],close_srt[train_size:len(close_srt),:1]"
   ]
  },
  {
   "cell_type": "code",
   "execution_count": 28,
   "id": "6890910a",
   "metadata": {},
   "outputs": [],
   "source": [
    "def create_dataset(dataset,time_step=1):\n",
    "    dataX,dataY= [],[]\n",
    "    for i in range(len(dataset)-time_step-1):\n",
    "        a=dataset[i:(i+time_step),0]\n",
    "        dataX.append(a)\n",
    "        dataY.append(dataset[i+time_step,0])\n",
    "    return np.array(dataX),np.array(dataY)"
   ]
  },
  {
   "cell_type": "code",
   "execution_count": 29,
   "id": "b6ae2284",
   "metadata": {},
   "outputs": [],
   "source": [
    "time_step=100\n",
    "X_train,y_train = create_dataset(train_data,time_step)\n",
    "X_test,y_test= create_dataset(test_data,time_step)"
   ]
  },
  {
   "cell_type": "code",
   "execution_count": 30,
   "id": "eaf1d932",
   "metadata": {},
   "outputs": [],
   "source": [
    "X_train=X_train.reshape(X_train.shape[0],X_train.shape[1],1)\n",
    "X_test= X_test.reshape(X_test.shape[0],X_test.shape[1],1)"
   ]
  },
  {
   "cell_type": "code",
   "execution_count": 31,
   "id": "4e28523f",
   "metadata": {},
   "outputs": [],
   "source": [
    "model=Sequential()\n",
    "model.add(LSTM(50,return_sequences=True,input_shape=(100,1)))\n",
    "model.add(LSTM(50,return_sequences=True))\n",
    "model.add(LSTM(50))\n",
    "model.add(Dense(1))\n",
    "model.compile(loss='mean_squared_error',optimizer='adam')\n"
   ]
  },
  {
   "cell_type": "code",
   "execution_count": 33,
   "id": "3752c5d3",
   "metadata": {},
   "outputs": [
    {
     "name": "stdout",
     "output_type": "stream",
     "text": [
      "Model: \"sequential\"\n",
      "_________________________________________________________________\n",
      " Layer (type)                Output Shape              Param #   \n",
      "=================================================================\n",
      " lstm (LSTM)                 (None, 100, 50)           10400     \n",
      "                                                                 \n",
      " lstm_1 (LSTM)               (None, 100, 50)           20200     \n",
      "                                                                 \n",
      " lstm_2 (LSTM)               (None, 50)                20200     \n",
      "                                                                 \n",
      " dense (Dense)               (None, 1)                 51        \n",
      "                                                                 \n",
      "=================================================================\n",
      "Total params: 50851 (198.64 KB)\n",
      "Trainable params: 50851 (198.64 KB)\n",
      "Non-trainable params: 0 (0.00 Byte)\n",
      "_________________________________________________________________\n"
     ]
    }
   ],
   "source": [
    "model.summary()"
   ]
  },
  {
   "cell_type": "code",
   "execution_count": 35,
   "id": "898e0c2c",
   "metadata": {},
   "outputs": [
    {
     "name": "stdout",
     "output_type": "stream",
     "text": [
      "Epoch 1/60\n",
      "55/55 [==============================] - 6s 118ms/step - loss: 2.2185e-06 - val_loss: 9.8468e-06\n",
      "Epoch 2/60\n",
      "55/55 [==============================] - 6s 117ms/step - loss: 2.1940e-06 - val_loss: 1.7705e-05\n",
      "Epoch 3/60\n",
      "55/55 [==============================] - 6s 117ms/step - loss: 2.3018e-06 - val_loss: 1.0708e-05\n",
      "Epoch 4/60\n",
      "55/55 [==============================] - 7s 118ms/step - loss: 2.7593e-06 - val_loss: 1.3958e-05\n",
      "Epoch 5/60\n",
      "55/55 [==============================] - 7s 119ms/step - loss: 2.3975e-06 - val_loss: 1.0876e-05\n",
      "Epoch 6/60\n",
      "55/55 [==============================] - 7s 120ms/step - loss: 2.1098e-06 - val_loss: 9.0367e-06\n",
      "Epoch 7/60\n",
      "55/55 [==============================] - 7s 122ms/step - loss: 2.7979e-06 - val_loss: 1.3381e-05\n",
      "Epoch 8/60\n",
      "55/55 [==============================] - 7s 133ms/step - loss: 1.9139e-06 - val_loss: 9.3007e-06\n",
      "Epoch 9/60\n",
      "55/55 [==============================] - 7s 135ms/step - loss: 1.9014e-06 - val_loss: 1.0382e-05\n",
      "Epoch 10/60\n",
      "55/55 [==============================] - 7s 133ms/step - loss: 2.2907e-06 - val_loss: 8.5419e-06\n",
      "Epoch 11/60\n",
      "55/55 [==============================] - 7s 131ms/step - loss: 2.3426e-06 - val_loss: 1.0794e-05\n",
      "Epoch 12/60\n",
      "55/55 [==============================] - 7s 132ms/step - loss: 1.9401e-06 - val_loss: 8.9165e-06\n",
      "Epoch 13/60\n",
      "55/55 [==============================] - 7s 131ms/step - loss: 2.2042e-06 - val_loss: 9.1010e-06\n",
      "Epoch 14/60\n",
      "55/55 [==============================] - 7s 131ms/step - loss: 2.0709e-06 - val_loss: 8.1751e-06\n",
      "Epoch 15/60\n",
      "55/55 [==============================] - 7s 133ms/step - loss: 2.1430e-06 - val_loss: 8.0818e-06\n",
      "Epoch 16/60\n",
      "55/55 [==============================] - 7s 133ms/step - loss: 1.9407e-06 - val_loss: 1.0582e-05\n",
      "Epoch 17/60\n",
      "55/55 [==============================] - 7s 132ms/step - loss: 1.9751e-06 - val_loss: 9.9344e-06\n",
      "Epoch 18/60\n",
      "55/55 [==============================] - 7s 132ms/step - loss: 1.6937e-06 - val_loss: 8.3821e-06\n",
      "Epoch 19/60\n",
      "55/55 [==============================] - 7s 132ms/step - loss: 1.7170e-06 - val_loss: 7.8004e-06\n",
      "Epoch 20/60\n",
      "55/55 [==============================] - 7s 131ms/step - loss: 2.0806e-06 - val_loss: 1.3973e-05\n",
      "Epoch 21/60\n",
      "55/55 [==============================] - 7s 131ms/step - loss: 1.9350e-06 - val_loss: 1.2640e-05\n",
      "Epoch 22/60\n",
      "55/55 [==============================] - 7s 133ms/step - loss: 2.3309e-06 - val_loss: 7.7495e-06\n",
      "Epoch 23/60\n",
      "55/55 [==============================] - 7s 132ms/step - loss: 1.7742e-06 - val_loss: 8.9353e-06\n",
      "Epoch 24/60\n",
      "55/55 [==============================] - 7s 133ms/step - loss: 1.8190e-06 - val_loss: 9.2392e-06\n",
      "Epoch 25/60\n",
      "55/55 [==============================] - 7s 132ms/step - loss: 1.7052e-06 - val_loss: 1.1256e-05\n",
      "Epoch 26/60\n",
      "55/55 [==============================] - 8s 136ms/step - loss: 1.7665e-06 - val_loss: 7.4382e-06\n",
      "Epoch 27/60\n",
      "55/55 [==============================] - 7s 132ms/step - loss: 1.6193e-06 - val_loss: 7.9563e-06\n",
      "Epoch 28/60\n",
      "55/55 [==============================] - 7s 132ms/step - loss: 1.8991e-06 - val_loss: 1.0066e-05\n",
      "Epoch 29/60\n",
      "55/55 [==============================] - 7s 133ms/step - loss: 1.8963e-06 - val_loss: 1.4759e-05\n",
      "Epoch 30/60\n",
      "55/55 [==============================] - 7s 132ms/step - loss: 1.7823e-06 - val_loss: 7.0928e-06\n",
      "Epoch 31/60\n",
      "55/55 [==============================] - 7s 133ms/step - loss: 1.4985e-06 - val_loss: 1.3166e-05\n",
      "Epoch 32/60\n",
      "55/55 [==============================] - 7s 132ms/step - loss: 1.8851e-06 - val_loss: 7.6925e-06\n",
      "Epoch 33/60\n",
      "55/55 [==============================] - 7s 132ms/step - loss: 1.7005e-06 - val_loss: 6.9163e-06\n",
      "Epoch 34/60\n",
      "55/55 [==============================] - 7s 132ms/step - loss: 1.8528e-06 - val_loss: 7.5994e-06\n",
      "Epoch 35/60\n",
      "55/55 [==============================] - 8s 154ms/step - loss: 1.7056e-06 - val_loss: 9.5419e-06\n",
      "Epoch 36/60\n",
      "55/55 [==============================] - 7s 131ms/step - loss: 1.5899e-06 - val_loss: 6.6282e-06\n",
      "Epoch 37/60\n",
      "55/55 [==============================] - 7s 131ms/step - loss: 1.5802e-06 - val_loss: 6.7057e-06\n",
      "Epoch 38/60\n",
      "55/55 [==============================] - 7s 135ms/step - loss: 1.8473e-06 - val_loss: 7.3540e-06\n",
      "Epoch 39/60\n",
      "55/55 [==============================] - 7s 132ms/step - loss: 1.6108e-06 - val_loss: 6.5987e-06\n",
      "Epoch 40/60\n",
      "55/55 [==============================] - 7s 131ms/step - loss: 1.5778e-06 - val_loss: 6.5621e-06\n",
      "Epoch 41/60\n",
      "55/55 [==============================] - 7s 133ms/step - loss: 1.7407e-06 - val_loss: 8.5181e-06\n",
      "Epoch 42/60\n",
      "55/55 [==============================] - 7s 132ms/step - loss: 1.7555e-06 - val_loss: 6.5286e-06\n",
      "Epoch 43/60\n",
      "55/55 [==============================] - 7s 133ms/step - loss: 1.6010e-06 - val_loss: 6.4607e-06\n",
      "Epoch 44/60\n",
      "55/55 [==============================] - 7s 133ms/step - loss: 1.7292e-06 - val_loss: 6.4240e-06\n",
      "Epoch 45/60\n",
      "55/55 [==============================] - 7s 132ms/step - loss: 1.8122e-06 - val_loss: 8.8118e-06\n",
      "Epoch 46/60\n",
      "55/55 [==============================] - 7s 132ms/step - loss: 1.5014e-06 - val_loss: 1.2665e-05\n",
      "Epoch 47/60\n",
      "55/55 [==============================] - 7s 133ms/step - loss: 1.6412e-06 - val_loss: 7.3291e-06\n",
      "Epoch 48/60\n",
      "55/55 [==============================] - 7s 133ms/step - loss: 1.6796e-06 - val_loss: 7.1632e-06\n",
      "Epoch 49/60\n",
      "55/55 [==============================] - 7s 132ms/step - loss: 1.6600e-06 - val_loss: 7.1794e-06\n",
      "Epoch 50/60\n",
      "55/55 [==============================] - 7s 133ms/step - loss: 2.1741e-06 - val_loss: 7.5931e-06\n",
      "Epoch 51/60\n",
      "55/55 [==============================] - 7s 133ms/step - loss: 1.7815e-06 - val_loss: 6.3578e-06\n",
      "Epoch 52/60\n",
      "55/55 [==============================] - 7s 133ms/step - loss: 1.4731e-06 - val_loss: 7.3812e-06\n",
      "Epoch 53/60\n",
      "55/55 [==============================] - 8s 140ms/step - loss: 1.8220e-06 - val_loss: 6.5490e-06\n",
      "Epoch 54/60\n",
      "55/55 [==============================] - 7s 133ms/step - loss: 1.6690e-06 - val_loss: 6.9486e-06\n",
      "Epoch 55/60\n",
      "55/55 [==============================] - 7s 133ms/step - loss: 1.5590e-06 - val_loss: 1.0351e-05\n",
      "Epoch 56/60\n",
      "55/55 [==============================] - 7s 132ms/step - loss: 1.4577e-06 - val_loss: 7.4790e-06\n",
      "Epoch 57/60\n",
      "55/55 [==============================] - 7s 132ms/step - loss: 1.4593e-06 - val_loss: 6.3594e-06\n",
      "Epoch 58/60\n",
      "55/55 [==============================] - 7s 133ms/step - loss: 1.4740e-06 - val_loss: 6.2784e-06\n",
      "Epoch 59/60\n",
      "55/55 [==============================] - 7s 133ms/step - loss: 1.4133e-06 - val_loss: 6.2455e-06\n",
      "Epoch 60/60\n",
      "55/55 [==============================] - 7s 134ms/step - loss: 1.4863e-06 - val_loss: 6.5011e-06\n"
     ]
    },
    {
     "data": {
      "text/plain": [
       "<keras.src.callbacks.History at 0x1fd1d892290>"
      ]
     },
     "execution_count": 35,
     "metadata": {},
     "output_type": "execute_result"
    }
   ],
   "source": [
    "model.fit(X_train,y_train,validation_split=0.1,epochs=60,batch_size=64,verbose=1)"
   ]
  },
  {
   "cell_type": "markdown",
   "id": "95a3bf8f",
   "metadata": {},
   "source": [
    "Predict"
   ]
  },
  {
   "cell_type": "code",
   "execution_count": 36,
   "id": "acbe6c38",
   "metadata": {},
   "outputs": [
    {
     "name": "stdout",
     "output_type": "stream",
     "text": [
      "121/121 [==============================] - 4s 24ms/step\n",
      "50/50 [==============================] - 1s 23ms/step\n"
     ]
    }
   ],
   "source": [
    "train_predict = model.predict(X_train)\n",
    "test_predict = model.predict(X_test)"
   ]
  },
  {
   "cell_type": "code",
   "execution_count": 37,
   "id": "c2bfa5ba",
   "metadata": {},
   "outputs": [],
   "source": [
    "train_predict=scaler.inverse_transform(train_predict)\n",
    "test_predict=scaler.inverse_transform(test_predict)"
   ]
  },
  {
   "cell_type": "code",
   "execution_count": 39,
   "id": "e666d632",
   "metadata": {},
   "outputs": [
    {
     "data": {
      "text/plain": [
       "98.38526610590215"
      ]
     },
     "execution_count": 39,
     "metadata": {},
     "output_type": "execute_result"
    }
   ],
   "source": [
    "mt.sqrt(mean_squared_error(y_train,train_predict))"
   ]
  },
  {
   "cell_type": "code",
   "execution_count": 40,
   "id": "ab9b58e4",
   "metadata": {},
   "outputs": [
    {
     "data": {
      "text/plain": [
       "1093.6279182730677"
      ]
     },
     "execution_count": 40,
     "metadata": {},
     "output_type": "execute_result"
    }
   ],
   "source": [
    "mt.sqrt(mean_squared_error(y_test,test_predict))"
   ]
  },
  {
   "cell_type": "markdown",
   "id": "7894f1fe",
   "metadata": {},
   "source": [
    "Prediction vs Actual"
   ]
  },
  {
   "cell_type": "code",
   "execution_count": 41,
   "id": "ec3a21b4",
   "metadata": {},
   "outputs": [
    {
     "data": {
      "image/png": "[encoded data removed]",
      "text/plain": [
       "<Figure size 1000x500 with 1 Axes>"
      ]
     },
     "metadata": {},
     "output_type": "display_data"
    }
   ],
   "source": [
    "look_back=100\n",
    "trainPredictPlot= np.empty_like(close_srt)\n",
    "trainPredictPlot[:,:] = np.nan\n",
    "trainPredictPlot[look_back:len(train_predict)+look_back,:]= train_predict\n",
    "\n",
    "testPredictPlot=np.empty_like(close_srt)\n",
    "testPredictPlot[:,:] = np.nan\n",
    "testPredictPlot[len(train_predict)+(look_back*2)+1:len(close_srt)-1,:]= test_predict\n",
    "\n",
    "\n",
    "plt.figure(figsize=(10,5))\n",
    "plt.plot(scaler.inverse_transform(close_srt))\n",
    "plt.plot(trainPredictPlot)\n",
    "plt.plot(testPredictPlot)\n",
    "plt.show()\n"
   ]
  },
  {
   "cell_type": "code",
   "execution_count": null,
   "id": "032d4b43",
   "metadata": {},
   "outputs": [],
   "source": []
  }
 ],
 "metadata": {
  "kernelspec": {
   "display_name": "Python 3 (ipykernel)",
   "language": "python",
   "name": "python3"
  },
  "language_info": {
   "codemirror_mode": {
    "name": "ipython",
    "version": 3
   },
   "file_extension": ".py",
   "mimetype": "text/x-python",
   "name": "python",
   "nbconvert_exporter": "python",
   "pygments_lexer": "ipython3",
   "version": "3.11.4"
  }
 },
 "nbformat": 4,
 "nbformat_minor": 5
}
